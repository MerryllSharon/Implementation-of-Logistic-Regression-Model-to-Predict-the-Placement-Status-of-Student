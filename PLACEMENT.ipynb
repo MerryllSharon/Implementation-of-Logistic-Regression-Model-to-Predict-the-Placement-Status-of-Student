{
 "cells": [
  {
   "cell_type": "code",
   "execution_count": null,
   "metadata": {},
   "outputs": [],
   "source": [
    "import pandas as pd\n",
    "data=pd.read_csv(\"Placement_Data.csv\")\n",
    "data.head()\n",
    "data1=data.copy()\n",
    "data1.head()\n",
    "data1=data1.drop(['sl_no','salary'],axis=1)\n",
    "data1.isnull().sum()\n",
    "data1.duplicated().sum()\n",
    "data1"
   ]
  },
  {
   "cell_type": "code",
   "execution_count": null,
   "metadata": {},
   "outputs": [],
   "source": [
    "from sklearn.preprocessing import LabelEncoder\n",
    "le=LabelEncoder()\n",
    "data1[\"gender\"]=le.fit_transform(data1[\"gender\"])\n",
    "data1[\"ssc_b\"]=le.fit_transform(data1[\"ssc_b\"])\n",
    "data1[\"hsc_b\"]=le.fit_transform(data1[\"hsc_b\"])\n",
    "data1[\"hsc_s\"]=le.fit_transform(data1[\"hsc_s\"])\n",
    "data1[\"degree_t\"]=le.fit_transform(data1[\"degree_t\"])\n",
    "data1[\"workex\"]=le.fit_transform(data1[\"workex\"])\n",
    "data1[\"specialisation\"]=le.fit_transform(data1[\"specialisation\"])\n",
    "data1[\"status\"]=le.fit_transform(data1[\"status\"])\n",
    "data1\n",
    "x=data1.iloc[:, : -1]\n",
    "x\n",
    "y=data1[\"status\"]\n",
    "y"
   ]
  },
  {
   "cell_type": "code",
   "execution_count": null,
   "metadata": {},
   "outputs": [],
   "source": [
    "from sklearn.model_selection import train_test_split\n",
    "x_train,x_test,y_train,y_test=train_test_split(x,y,test_size=0.2,random_state=0)\n",
    "from sklearn.linear_model import LogisticRegression\n",
    "model=LogisticRegression(solver=\"liblinear\")\n",
    "model.fit(x_train,y_train)\n",
    "y_pred=model.predict(x_test)"
   ]
  },
  {
   "cell_type": "code",
   "execution_count": null,
   "metadata": {},
   "outputs": [],
   "source": [
    "from sklearn.metrics import accuracy_score,confusion_matrix,classification_report\n",
    "accuracy=accuracy_score(y_test,y_pred)\n",
    "confusion=confusion_matrix(y_test,y_pred)\n",
    "cr=classification_report(y_test,y_pred)"
   ]
  },
  {
   "cell_type": "code",
   "execution_count": null,
   "metadata": {},
   "outputs": [],
   "source": [
    "print(\"Accuracy score:\",accuracy)\n",
    "print(\"\\nConfusion matrix:\\n\",confusion)\n",
    "print(\"\\nClassification Report:\\n\",cr)\n",
    "from sklearn import metrics\n",
    "cm_display=metrics.ConfusionMatrixDisplay(confusion_matrix=confusion,display_labels=[True,False])\n",
    "cm_display.plot()"
   ]
  }
 ],
 "metadata": {
  "kernelspec": {
   "display_name": "base",
   "language": "python",
   "name": "python3"
  },
  "language_info": {
   "codemirror_mode": {
    "name": "ipython",
    "version": 3
   },
   "file_extension": ".py",
   "mimetype": "text/x-python",
   "name": "python",
   "nbconvert_exporter": "python",
   "pygments_lexer": "ipython3",
   "version": "3.12.4"
  }
 },
 "nbformat": 4,
 "nbformat_minor": 2
}
